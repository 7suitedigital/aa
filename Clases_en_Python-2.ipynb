{
 "cells": [
  {
   "cell_type": "markdown",
   "id": "6824e7ce",
   "metadata": {},
   "source": [
    "# 📘 Clases en Python - Guía Completa"
   ]
  },
  {
   "cell_type": "markdown",
   "id": "8b1ef7a4",
   "metadata": {},
   "source": [
    "\n",
    "## 📑 Índice  \n",
    "Haz clic en cualquier sección para ir directamente a ella:\n",
    "\n",
    "1. [📌 ¿Qué es una Clase en Python?](#que-es-una-clase)\n",
    "2. [🔹 Definiendo una Clase](#definir-clase)\n",
    "3. [🛠️ Creación de Objetos](#crear-objetos)\n",
    "4. [✨ Métodos y `self`](#metodos-self)\n",
    "5. [📌 Atributos de Clase vs. Atributos de Instancia](#atributos-clase-instancia)\n",
    "6. [🌍 Encapsulamiento y Modificadores de Acceso](#encapsulamiento)\n",
    "7. [🚀 Herencia en Python](#herencia)\n",
    "8. [📌 Resumen](#resumen)\n"
   ]
  },
  {
   "cell_type": "markdown",
   "id": "414b7a32",
   "metadata": {},
   "source": [
    "## 📌 ¿Qué es una Clase en Python? {#que-es-una-clase}"
   ]
  },
  {
   "cell_type": "markdown",
   "id": "56c6bfd0",
   "metadata": {},
   "source": [
    "\n",
    "En Python, una **clase** es una plantilla para crear **objetos**.  \n",
    "Los objetos representan **entidades del mundo real** con características (atributos) y comportamientos (métodos).\n",
    "\n",
    "### 🔹 **Ejemplo del mundo real**:\n",
    "Un **\"Coche\"** tiene atributos como `marca`, `color` y `modelo`, y métodos como `acelerar()` o `frenar()`.  \n",
    "En Python, una clase permite definir esta estructura y luego crear múltiples objetos basados en ella.\n"
   ]
  },
  {
   "cell_type": "markdown",
   "id": "5b1d418a",
   "metadata": {},
   "source": [
    "## 🔹 Definiendo una Clase {#definir-clase}"
   ]
  },
  {
   "cell_type": "markdown",
   "id": "609b66b0",
   "metadata": {},
   "source": [
    "\n",
    "Para definir una clase en Python usamos la palabra clave `class`.  \n",
    "El **constructor `__init__`** permite inicializar los atributos de un objeto.\n",
    "\n",
    "```python\n",
    "class Coche:\n",
    "    def __init__(self, marca, color):\n",
    "        self.marca = marca  # Atributo de instancia\n",
    "        self.color = color  # Atributo de instancia\n",
    "```\n",
    "📌 `self` es una referencia al propio objeto y permite acceder a sus atributos.\n"
   ]
  },
  {
   "cell_type": "code",
   "execution_count": null,
   "id": "8d774763",
   "metadata": {},
   "outputs": [],
   "source": [
    "\n",
    "# Definiendo una clase simple en Python\n",
    "class Coche:\n",
    "    def __init__(self, marca, color):\n",
    "        self.marca = marca\n",
    "        self.color = color\n",
    "\n",
    "# Crear una instancia de la clase\n",
    "mi_coche = Coche(\"Toyota\", \"Rojo\")\n",
    "\n",
    "print(mi_coche.marca)  # Toyota\n",
    "print(mi_coche.color)  # Rojo\n"
   ]
  },
  {
   "cell_type": "markdown",
   "id": "1e3eb0b4",
   "metadata": {},
   "source": [
    "## 🛠️ Creación de Objetos {#crear-objetos}"
   ]
  },
  {
   "cell_type": "markdown",
   "id": "92079cc8",
   "metadata": {},
   "source": [
    "\n",
    "Para crear un **objeto** de una clase, simplemente llamamos a la clase como si fuera una función.  \n",
    "Cada objeto tiene su propio conjunto de atributos.\n",
    "\n",
    "```python\n",
    "mi_coche = Coche(\"Toyota\", \"Rojo\")\n",
    "otro_coche = Coche(\"Honda\", \"Azul\")\n",
    "```\n",
    "📌 Cada objeto tiene valores distintos pero sigue la misma estructura de la clase.\n"
   ]
  },
  {
   "cell_type": "markdown",
   "id": "674ab27b",
   "metadata": {},
   "source": [
    "## ✨ Métodos y `self` {#metodos-self}"
   ]
  },
  {
   "cell_type": "markdown",
   "id": "13d59a07",
   "metadata": {},
   "source": [
    "\n",
    "Los **métodos** son funciones dentro de una clase que definen el comportamiento de los objetos.\n",
    "\n",
    "```python\n",
    "class Coche:\n",
    "    def __init__(self, marca, color):\n",
    "        self.marca = marca\n",
    "        self.color = color\n",
    "\n",
    "    def acelerar(self):\n",
    "        print(f\"El coche {self.marca} está acelerando.\")\n",
    "```\n",
    "📌 **`self`** es obligatorio como primer parámetro en los métodos y se refiere a la instancia del objeto.\n"
   ]
  },
  {
   "cell_type": "code",
   "execution_count": null,
   "id": "2be3556e",
   "metadata": {},
   "outputs": [],
   "source": [
    "\n",
    "# Definir una clase con un método\n",
    "class Coche:\n",
    "    def __init__(self, marca, color):\n",
    "        self.marca = marca\n",
    "        self.color = color\n",
    "\n",
    "    def acelerar(self):\n",
    "        print(f\"El coche {self.marca} está acelerando.\")\n",
    "\n",
    "# Crear un objeto y usar un método\n",
    "mi_coche = Coche(\"Ford\", \"Negro\")\n",
    "mi_coche.acelerar()\n"
   ]
  },
  {
   "cell_type": "markdown",
   "id": "871f2a05",
   "metadata": {},
   "source": [
    "## 📌 Atributos de Clase vs. Atributos de Instancia {#atributos-clase-instancia}"
   ]
  },
  {
   "cell_type": "markdown",
   "id": "e53ef53b",
   "metadata": {},
   "source": [
    "\n",
    "### 🔹 **Atributos de Clase**\n",
    "Son compartidos por **todas** las instancias de la clase.\n",
    "\n",
    "```python\n",
    "class Coche:\n",
    "    ruedas = 4  # Atributo de clase (igual para todos los coches)\n",
    "```\n",
    "### 🔹 **Atributos de Instancia**\n",
    "Son específicos de cada objeto y se definen en `__init__`.\n",
    "\n",
    "```python\n",
    "class Coche:\n",
    "    def __init__(self, marca):\n",
    "        self.marca = marca  # Atributo de instancia\n",
    "```\n"
   ]
  },
  {
   "cell_type": "markdown",
   "id": "157a8f79",
   "metadata": {},
   "source": [
    "## 🌍 Encapsulamiento y Modificadores de Acceso {#encapsulamiento}"
   ]
  },
  {
   "cell_type": "markdown",
   "id": "a4f7c5cc",
   "metadata": {},
   "source": [
    "\n",
    "Python permite **proteger** ciertos atributos y métodos para evitar acceso directo.\n",
    "\n",
    "| **Tipo** | **Prefijo** | **Ejemplo** |\n",
    "|----------|------------|-------------|\n",
    "| Público | Sin prefijo | `self.color` |\n",
    "| Protegido | `_atributo` | `self._kilometraje` |\n",
    "| Privado | `__atributo` | `self.__motor` |\n",
    "\n",
    "```python\n",
    "class Coche:\n",
    "    def __init__(self, marca):\n",
    "        self.marca = marca  # Público\n",
    "        self._kilometraje = 10000  # Protegido\n",
    "        self.__motor = \"V8\"  # Privado\n",
    "```\n"
   ]
  },
  {
   "cell_type": "markdown",
   "id": "d229f0ea",
   "metadata": {},
   "source": [
    "## 🚀 Herencia en Python {#herencia}"
   ]
  },
  {
   "cell_type": "markdown",
   "id": "b79edc4f",
   "metadata": {},
   "source": [
    "\n",
    "La **herencia** permite que una clase (hija) herede atributos y métodos de otra clase (padre).\n",
    "\n",
    "```python\n",
    "class Vehiculo:\n",
    "    def __init__(self, marca):\n",
    "        self.marca = marca\n",
    "\n",
    "class Coche(Vehiculo):\n",
    "    def acelerar(self):\n",
    "        print(f\"El coche {self.marca} está acelerando.\")\n",
    "```\n",
    "\n",
    "📌 `Coche` hereda de `Vehiculo`, por lo que puede usar sus atributos.\n"
   ]
  },
  {
   "cell_type": "code",
   "execution_count": null,
   "id": "9901c2e4",
   "metadata": {},
   "outputs": [],
   "source": [
    "\n",
    "# Definir clases con herencia\n",
    "class Vehiculo:\n",
    "    def __init__(self, marca):\n",
    "        self.marca = marca\n",
    "\n",
    "class Coche(Vehiculo):\n",
    "    def acelerar(self):\n",
    "        print(f\"El coche {self.marca} está acelerando.\")\n",
    "\n",
    "# Crear un objeto de la clase hija\n",
    "mi_coche = Coche(\"Tesla\")\n",
    "mi_coche.acelerar()\n"
   ]
  },
  {
   "cell_type": "markdown",
   "id": "5cb6a36d",
   "metadata": {},
   "source": [
    "## 📌 Resumen {#resumen}"
   ]
  },
  {
   "cell_type": "markdown",
   "id": "627ed5ee",
   "metadata": {},
   "source": [
    "\n",
    "### 🔹 **Puntos Clave sobre Clases en Python**\n",
    "✅ **Clases** → Plantillas para crear objetos.  \n",
    "✅ **Objetos** → Instancias de una clase con atributos y métodos.  \n",
    "✅ **`self`** → Referencia a la instancia actual de la clase.  \n",
    "✅ **Atributos** → Pueden ser **de clase** (compartidos) o **de instancia** (únicos por objeto).  \n",
    "✅ **Encapsulamiento** → Control de acceso a atributos (`público`, `protegido`, `privado`).  \n",
    "✅ **Herencia** → Permite reutilizar código al heredar atributos y métodos de otra clase.  \n",
    "\n",
    "📌 **Ejecuta las celdas para practicar y experimentar con las clases! 🚀**\n"
   ]
  }
 ],
 "metadata": {
  "language_info": {
   "name": "python"
  }
 },
 "nbformat": 4,
 "nbformat_minor": 5
}
